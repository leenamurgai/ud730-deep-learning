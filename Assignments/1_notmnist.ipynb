{
 "cells": [
  {
   "cell_type": "markdown",
   "metadata": {
    "colab_type": "text",
    "id": "5hIbr52I7Z7U"
   },
   "source": [
    "Deep Learning\n",
    "=============\n",
    "\n",
    "Assignment 1\n",
    "------------\n",
    "\n",
    "The objective of this assignment is to learn about simple data curation practices, and familiarize you with some of the data we'll be reusing later.\n",
    "\n",
    "This notebook uses the [notMNIST](http://yaroslavvb.blogspot.com/2011/09/notmnist-dataset.html) dataset to be used with python experiments. This dataset is designed to look like the classic [MNIST](http://yann.lecun.com/exdb/mnist/) dataset, while looking a little more like real data: it's a harder task, and the data is a lot less 'clean' than MNIST."
   ]
  },
  {
   "cell_type": "code",
   "execution_count": 1,
   "metadata": {
    "cellView": "both",
    "colab": {
     "autoexec": {
      "startup": false,
      "wait_interval": 0
     }
    },
    "colab_type": "code",
    "collapsed": true,
    "id": "apJbCsBHl-2A"
   },
   "outputs": [],
   "source": [
    "# These are all the modules we'll be using later. Make sure you can import them\n",
    "# before proceeding further.\n",
    "from __future__ import print_function\n",
    "import matplotlib.pyplot as plt\n",
    "import numpy as np\n",
    "import os\n",
    "import sys\n",
    "import tarfile\n",
    "from IPython.display import display, Image\n",
    "from scipy import ndimage\n",
    "from sklearn.linear_model import LogisticRegression\n",
    "from six.moves.urllib.request import urlretrieve\n",
    "from six.moves import cPickle as pickle\n",
    "\n",
    "# Config the matlotlib backend as plotting inline in IPython\n",
    "%matplotlib inline"
   ]
  },
  {
   "cell_type": "markdown",
   "metadata": {
    "colab_type": "text",
    "id": "jNWGtZaXn-5j"
   },
   "source": [
    "First, we'll download the dataset to our local machine. The data consists of characters rendered in a variety of fonts on a 28x28 image. The labels are limited to 'A' through 'J' (10 classes). The training set has about 500k and the testset 19000 labelled examples. Given these sizes, it should be possible to train models quickly on any machine."
   ]
  },
  {
   "cell_type": "code",
   "execution_count": 2,
   "metadata": {
    "cellView": "both",
    "colab": {
     "autoexec": {
      "startup": false,
      "wait_interval": 0
     },
     "output_extras": [
      {
       "item_id": 1
      }
     ]
    },
    "colab_type": "code",
    "collapsed": false,
    "executionInfo": {
     "elapsed": 186058,
     "status": "ok",
     "timestamp": 1444485672507,
     "user": {
      "color": "#1FA15D",
      "displayName": "Vincent Vanhoucke",
      "isAnonymous": false,
      "isMe": true,
      "permissionId": "05076109866853157986",
      "photoUrl": "//lh6.googleusercontent.com/-cCJa7dTDcgQ/AAAAAAAAAAI/AAAAAAAACgw/r2EZ_8oYer4/s50-c-k-no/photo.jpg",
      "sessionId": "2a0a5e044bb03b66",
      "userId": "102167687554210253930"
     },
     "user_tz": 420
    },
    "id": "EYRJ4ICW6-da",
    "outputId": "0d0f85df-155f-4a89-8e7e-ee32df36ec8d"
   },
   "outputs": [
    {
     "name": "stdout",
     "output_type": "stream",
     "text": [
      "Found and verified notMNIST_large.tar.gz\n",
      "Found and verified notMNIST_small.tar.gz\n"
     ]
    }
   ],
   "source": [
    "url = 'http://commondatastorage.googleapis.com/books1000/'\n",
    "last_percent_reported = None\n",
    "\n",
    "def download_progress_hook(count, blockSize, totalSize):\n",
    "  \"\"\"A hook to report the progress of a download. This is mostly intended for users with\n",
    "  slow internet connections. Reports every 1% change in download progress.\n",
    "  \"\"\"\n",
    "  global last_percent_reported\n",
    "  percent = int(count * blockSize * 100 / totalSize)\n",
    "\n",
    "  if last_percent_reported != percent:\n",
    "    if percent % 5 == 0:\n",
    "      sys.stdout.write(\"%s%%\" % percent)\n",
    "      sys.stdout.flush()\n",
    "    else:\n",
    "      sys.stdout.write(\".\")\n",
    "      sys.stdout.flush()\n",
    "      \n",
    "    last_percent_reported = percent\n",
    "        \n",
    "def maybe_download(filename, expected_bytes, force=False):\n",
    "  \"\"\"Download a file if not present, and make sure it's the right size.\"\"\"\n",
    "  if force or not os.path.exists(filename):\n",
    "    print('Attempting to download:', filename) \n",
    "    filename, _ = urlretrieve(url + filename, filename, reporthook=download_progress_hook)\n",
    "    print('\\nDownload Complete!')\n",
    "  statinfo = os.stat(filename)\n",
    "  if statinfo.st_size == expected_bytes:\n",
    "    print('Found and verified', filename)\n",
    "  else:\n",
    "    raise Exception(\n",
    "      'Failed to verify ' + filename + '. Can you get to it with a browser?')\n",
    "  return filename\n",
    "\n",
    "train_filename = maybe_download('notMNIST_large.tar.gz', 247336696)\n",
    "test_filename = maybe_download('notMNIST_small.tar.gz', 8458043)"
   ]
  },
  {
   "cell_type": "markdown",
   "metadata": {
    "colab_type": "text",
    "id": "cC3p0oEyF8QT"
   },
   "source": [
    "Extract the dataset from the compressed .tar.gz file.\n",
    "This should give you a set of directories, labelled A through J."
   ]
  },
  {
   "cell_type": "code",
   "execution_count": 3,
   "metadata": {
    "cellView": "both",
    "colab": {
     "autoexec": {
      "startup": false,
      "wait_interval": 0
     },
     "output_extras": [
      {
       "item_id": 1
      }
     ]
    },
    "colab_type": "code",
    "collapsed": false,
    "executionInfo": {
     "elapsed": 186055,
     "status": "ok",
     "timestamp": 1444485672525,
     "user": {
      "color": "#1FA15D",
      "displayName": "Vincent Vanhoucke",
      "isAnonymous": false,
      "isMe": true,
      "permissionId": "05076109866853157986",
      "photoUrl": "//lh6.googleusercontent.com/-cCJa7dTDcgQ/AAAAAAAAAAI/AAAAAAAACgw/r2EZ_8oYer4/s50-c-k-no/photo.jpg",
      "sessionId": "2a0a5e044bb03b66",
      "userId": "102167687554210253930"
     },
     "user_tz": 420
    },
    "id": "H8CBE-WZ8nmj",
    "outputId": "ef6c790c-2513-4b09-962e-27c79390c762"
   },
   "outputs": [
    {
     "name": "stdout",
     "output_type": "stream",
     "text": [
      "notMNIST_large already present - Skipping extraction of notMNIST_large.tar.gz.\n",
      "['notMNIST_large/A', 'notMNIST_large/B', 'notMNIST_large/C', 'notMNIST_large/D', 'notMNIST_large/E', 'notMNIST_large/F', 'notMNIST_large/G', 'notMNIST_large/H', 'notMNIST_large/I', 'notMNIST_large/J']\n",
      "notMNIST_small already present - Skipping extraction of notMNIST_small.tar.gz.\n",
      "['notMNIST_small/A', 'notMNIST_small/B', 'notMNIST_small/C', 'notMNIST_small/D', 'notMNIST_small/E', 'notMNIST_small/F', 'notMNIST_small/G', 'notMNIST_small/H', 'notMNIST_small/I', 'notMNIST_small/J']\n"
     ]
    }
   ],
   "source": [
    "num_classes = 10\n",
    "np.random.seed(133)\n",
    "\n",
    "def maybe_extract(filename, force=False):\n",
    "  root = os.path.splitext(os.path.splitext(filename)[0])[0]  # remove .tar.gz\n",
    "  if os.path.isdir(root) and not force:\n",
    "    # You may override by setting force=True.\n",
    "    print('%s already present - Skipping extraction of %s.' % (root, filename))\n",
    "  else:\n",
    "    print('Extracting data for %s. This may take a while. Please wait.' % root)\n",
    "    tar = tarfile.open(filename)\n",
    "    sys.stdout.flush()\n",
    "    tar.extractall()\n",
    "    tar.close()\n",
    "  data_folders = [\n",
    "    os.path.join(root, d) for d in sorted(os.listdir(root))\n",
    "    if os.path.isdir(os.path.join(root, d))]\n",
    "  if len(data_folders) != num_classes:\n",
    "    raise Exception(\n",
    "      'Expected %d folders, one per class. Found %d instead.' % (\n",
    "        num_classes, len(data_folders)))\n",
    "  print(data_folders)\n",
    "  return data_folders\n",
    "  \n",
    "train_folders = maybe_extract(train_filename)\n",
    "test_folders = maybe_extract(test_filename)"
   ]
  },
  {
   "cell_type": "markdown",
   "metadata": {
    "colab_type": "text",
    "id": "4riXK3IoHgx6"
   },
   "source": [
    "---\n",
    "Problem 1\n",
    "---------\n",
    "\n",
    "Let's take a peek at some of the data to make sure it looks sensible. Each exemplar should be an image of a character A through J rendered in a different font. Display a sample of the images that we just downloaded. Hint: you can use the package IPython.display.\n",
    "\n",
    "---"
   ]
  },
  {
   "cell_type": "code",
   "execution_count": 4,
   "metadata": {
    "collapsed": false
   },
   "outputs": [],
   "source": [
    "files_small = {}\n",
    "temp_list = !ls notMNIST_small\n",
    "list_folders_small = [s for s in temp_list if \"pickle\" not in s]\n",
    "#display(list_folders_small)\n",
    "for letter in list_folders_small:\n",
    "    temp_list = !ls notMNIST_small/$letter\n",
    "    for i in xrange(0,len(temp_list)):\n",
    "        temp_list[i] = \"notMNIST_small/\"+letter+\"/\"+temp_list[i]\n",
    "    files_small[letter] = temp_list\n",
    "\n",
    "files_large = {}\n",
    "temp_list = !ls notMNIST_large\n",
    "list_folders_large = [s for s in temp_list if \"pickle\" not in s]\n",
    "#display(list_folders_large)\n",
    "for letter in list_folders_large:\n",
    "    temp_list = !ls notMNIST_large/$letter\n",
    "    for i in xrange(0,len(temp_list)):\n",
    "        temp_list[i] = \"notMNIST_large/\"+letter+\"/\"+temp_list[i]\n",
    "    files_large[letter] = temp_list"
   ]
  },
  {
   "cell_type": "code",
   "execution_count": 5,
   "metadata": {
    "collapsed": false,
    "scrolled": false
   },
   "outputs": [
    {
     "data": {
      "text/plain": [
       "['notMNIST_small/A/QXZhbnRHYXJkZUlUQ2J5QlQtQm9va09ibGlxdWUub3Rm.png',\n",
       " 'notMNIST_small/C/Q2FwaXRhbHMudHRm.png',\n",
       " 'notMNIST_small/B/QW50aXF1ZU9saVQtQm9sZENvbmRJbjEub3Rm.png',\n",
       " 'notMNIST_small/E/RFRMVmFuZGVuS2VlcmVEQ2Fwcy1Cb2xkLm90Zg==.png',\n",
       " 'notMNIST_small/D/RnJ1dGlnZXJOZXh0TFQtTGlnaHQub3Rm.png',\n",
       " 'notMNIST_small/G/QXVndXN0YVNjaG51cmtsU3RkLVJlZy5vdGY=.png',\n",
       " 'notMNIST_small/F/QnVyYmFua0JpZ1JlZ3VsYXItQmxhY2sub3Rm.png',\n",
       " 'notMNIST_small/I/Q29uY29yZGVCRS1Cb2xkQ24ub3Rm.png',\n",
       " 'notMNIST_small/H/Qmlqb3V4LUJvbGQub3Rm.png',\n",
       " 'notMNIST_small/J/Q2xhc3NpY2EgT25lLnR0Zg==.png',\n",
       " 'notMNIST_large/A/RnV0dXJhQlEtRXh0cmFCb2xkLm90Zg==.png',\n",
       " 'notMNIST_large/C/U2FuZG92YWwudHRm.png',\n",
       " 'notMNIST_large/B/RHJlYW0gb2YgbWUudHRm.png',\n",
       " 'notMNIST_large/E/U2NyaXB0b3JpYSBTbWFsbCBDYXBzIFNTaS50dGY=.png',\n",
       " 'notMNIST_large/D/R291ZHktTWVkaWV2YWwudHRm.png',\n",
       " 'notMNIST_large/G/UG9wcGwtTGF1ZGF0aW8gTWVkaXVtLnR0Zg==.png',\n",
       " 'notMNIST_large/F/R291ZHkgUmV0cm9zcGVjdGl2ZSBTU2kudHRm.png',\n",
       " 'notMNIST_large/I/U2FjY3VsZS50dGY=.png',\n",
       " 'notMNIST_large/H/U3dpc3MgNzIxIEl0YWxpYyBXaW45NUJUKDEpLnR0Zg==.png',\n",
       " 'notMNIST_large/J/RFRMUHJva3lvblNULm90Zg==.png']"
      ]
     },
     "execution_count": 5,
     "metadata": {},
     "output_type": "execute_result"
    }
   ],
   "source": [
    "import random\n",
    "random_selection_images = []\n",
    "for key in files_small.keys():\n",
    "    random_selection_images.append(random.choice(files_small[key]))\n",
    "for key in files_large.keys():\n",
    "    random_selection_images.append(random.choice(files_large[key]))\n",
    "random_selection_images"
   ]
  },
  {
   "cell_type": "code",
   "execution_count": 6,
   "metadata": {
    "collapsed": false,
    "scrolled": false
   },
   "outputs": [
    {
     "data": {
      "image/png": "[encoded data removed]",
      "text/plain": [
       "<IPython.core.display.Image object>"
      ]
     },
     "metadata": {},
     "output_type": "display_data"
    },
    {
     "data": {
      "image/png": "[encoded data removed]",
      "text/plain": [
       "<IPython.core.display.Image object>"
      ]
     },
     "metadata": {},
     "output_type": "display_data"
    },
    {
     "data": {
      "image/png": "[encoded data removed]",
      "text/plain": [
       "<IPython.core.display.Image object>"
      ]
     },
     "metadata": {},
     "output_type": "display_data"
    },
    {
     "data": {
      "image/png": "[encoded data removed]",
      "text/plain": [
       "<IPython.core.display.Image object>"
      ]
     },
     "metadata": {},
     "output_type": "display_data"
    },
    {
     "data": {
      "image/png": "[encoded data removed]",
      "text/plain": [
       "<IPython.core.display.Image object>"
      ]
     },
     "metadata": {},
     "output_type": "display_data"
    },
    {
     "data": {
      "image/png": "[encoded data removed]",
      "text/plain": [
       "<IPython.core.display.Image object>"
      ]
     },
     "metadata": {},
     "output_type": "display_data"
    },
    {
     "data": {
      "image/png": "[encoded data removed]",
      "text/plain": [
       "<IPython.core.display.Image object>"
      ]
     },
     "metadata": {},
     "output_type": "display_data"
    },
    {
     "data": {
      "image/png": "[encoded data removed]",
      "text/plain": [
       "<IPython.core.display.Image object>"
      ]
     },
     "metadata": {},
     "output_type": "display_data"
    },
    {
     "data": {
      "image/png": "[encoded data removed]",
      "text/plain": [
       "<IPython.core.display.Image object>"
      ]
     },
     "metadata": {},
     "output_type": "display_data"
    },
    {
     "data": {
      "image/png": "[encoded data removed]",
      "text/plain": [
       "<IPython.core.display.Image object>"
      ]
     },
     "metadata": {},
     "output_type": "display_data"
    },
    {
     "data": {
      "image/png": "[encoded data removed]",
      "text/plain": [
       "<IPython.core.display.Image object>"
      ]
     },
     "metadata": {},
     "output_type": "display_data"
    },
    {
     "data": {
      "image/png": "[encoded data removed]",
      "text/plain": [
       "<IPython.core.display.Image object>"
      ]
     },
     "metadata": {},
     "output_type": "display_data"
    },
    {
     "data": {
      "image/png": "[encoded data removed]",
      "text/plain": [
       "<IPython.core.display.Image object>"
      ]
     },
     "metadata": {},
     "output_type": "display_data"
    },
    {
     "data": {
      "image/png": "[encoded data removed]",
      "text/plain": [
       "<IPython.core.display.Image object>"
      ]
     },
     "metadata": {},
     "output_type": "display_data"
    },
    {
     "data": {
      "image/png": "[encoded data removed]",
      "text/plain": [
       "<IPython.core.display.Image object>"
      ]
     },
     "metadata": {},
     "output_type": "display_data"
    },
    {
     "data": {
      "image/png": "[encoded data removed]",
      "text/plain": [
       "<IPython.core.display.Image object>"
      ]
     },
     "metadata": {},
     "output_type": "display_data"
    },
    {
     "data": {
      "image/png": "[encoded data removed]",
      "text/plain": [
       "<IPython.core.display.Image object>"
      ]
     },
     "metadata": {},
     "output_type": "display_data"
    },
    {
     "data": {
      "image/png": "[encoded data removed]",
      "text/plain": [
       "<IPython.core.display.Image object>"
      ]
     },
     "metadata": {},
     "output_type": "display_data"
    },
    {
     "data": {
      "image/png": "[encoded data removed]",
      "text/plain": [
       "<IPython.core.display.Image object>"
      ]
     },
     "metadata": {},
     "output_type": "display_data"
    },
    {
     "data": {
      "image/png": "[encoded data removed]",
      "text/plain": [
       "<IPython.core.display.Image object>"
      ]
     },
     "metadata": {},
     "output_type": "display_data"
    }
   ],
   "source": [
    "from IPython.display import Image, display\n",
    "\n",
    "for imageName in random_selection_images:\n",
    "    display(Image(filename=imageName))"
   ]
  },
  {
   "cell_type": "markdown",
   "metadata": {
    "colab_type": "text",
    "id": "PBdkjESPK8tw"
   },
   "source": [
    "Now let's load the data in a more manageable format. Since, depending on your computer setup you might not be able to fit it all in memory, we'll load each class into a separate dataset, store them on disk and curate them independently. Later we'll merge them into a single dataset of manageable size.\n",
    "\n",
    "We'll convert the entire dataset into a 3D array (image index, x, y) of floating point values, normalized to have approximately zero mean and standard deviation ~0.5 to make training easier down the road. \n",
    "\n",
    "A few images might not be readable, we'll just skip them."
   ]
  },
  {
   "cell_type": "code",
   "execution_count": 7,
   "metadata": {
    "cellView": "both",
    "colab": {
     "autoexec": {
      "startup": false,
      "wait_interval": 0
     },
     "output_extras": [
      {
       "item_id": 30
      }
     ]
    },
    "colab_type": "code",
    "collapsed": false,
    "executionInfo": {
     "elapsed": 399874,
     "status": "ok",
     "timestamp": 1444485886378,
     "user": {
      "color": "#1FA15D",
      "displayName": "Vincent Vanhoucke",
      "isAnonymous": false,
      "isMe": true,
      "permissionId": "05076109866853157986",
      "photoUrl": "//lh6.googleusercontent.com/-cCJa7dTDcgQ/AAAAAAAAAAI/AAAAAAAACgw/r2EZ_8oYer4/s50-c-k-no/photo.jpg",
      "sessionId": "2a0a5e044bb03b66",
      "userId": "102167687554210253930"
     },
     "user_tz": 420
    },
    "id": "h7q0XhG3MJdf",
    "outputId": "92c391bb-86ff-431d-9ada-315568a19e59",
    "scrolled": true
   },
   "outputs": [
    {
     "name": "stdout",
     "output_type": "stream",
     "text": [
      "Pickling notMNIST_large/A.pickle.\n",
      "notMNIST_large/A\n",
      "Could not read:"
     ]
    },
    {
     "name": "stderr",
     "output_type": "stream",
     "text": [
      "ERROR:PIL.ImageFile:%s\n",
      "Traceback (most recent call last):\n",
      "  File \"//anaconda/lib/python2.7/site-packages/PIL/ImageFile.py\", line 100, in __init__\n",
      "    self._open()\n",
      "  File \"//anaconda/lib/python2.7/site-packages/PIL/IptcImagePlugin.py\", line 113, in _open\n",
      "    layers = i8(self.info[(3, 60)][0])\n",
      "KeyError: (3, 60)\n",
      "ERROR:PIL.ImageFile:%s\n",
      "Traceback (most recent call last):\n",
      "  File \"//anaconda/lib/python2.7/site-packages/PIL/ImageFile.py\", line 100, in __init__\n",
      "    self._open()\n",
      "  File \"//anaconda/lib/python2.7/site-packages/PIL/MpegImagePlugin.py\", line 71, in _open\n",
      "    if s.read(32) != 0x1B3:\n",
      "  File \"//anaconda/lib/python2.7/site-packages/PIL/MpegImagePlugin.py\", line 53, in read\n",
      "    v = self.peek(bits)\n",
      "  File \"//anaconda/lib/python2.7/site-packages/PIL/MpegImagePlugin.py\", line 38, in peek\n",
      "    c = self.next()\n",
      "  File \"//anaconda/lib/python2.7/site-packages/PIL/MpegImagePlugin.py\", line 34, in next\n",
      "    return i8(self.fp.read(1))\n",
      "  File \"//anaconda/lib/python2.7/site-packages/PIL/_binary.py\", line 18, in i8\n",
      "    return ord(c)\n",
      "TypeError: ord() expected a character, but string of length 0 found\n",
      "ERROR:PIL.ImageFile:%s\n",
      "Traceback (most recent call last):\n",
      "  File \"//anaconda/lib/python2.7/site-packages/PIL/ImageFile.py\", line 100, in __init__\n",
      "    self._open()\n",
      "  File \"//anaconda/lib/python2.7/site-packages/PIL/TgaImagePlugin.py\", line 57, in _open\n",
      "    idlen = i8(s[0])\n",
      "IndexError: string index out of range\n"
     ]
    },
    {
     "name": "stdout",
     "output_type": "stream",
     "text": [
      " notMNIST_large/A/RnJlaWdodERpc3BCb29rSXRhbGljLnR0Zg==.png : cannot identify image file 'notMNIST_large/A/RnJlaWdodERpc3BCb29rSXRhbGljLnR0Zg==.png' - it's ok, skipping.\n",
      "Could not read:"
     ]
    },
    {
     "name": "stderr",
     "output_type": "stream",
     "text": [
      "ERROR:PIL.ImageFile:%s\n",
      "Traceback (most recent call last):\n",
      "  File \"//anaconda/lib/python2.7/site-packages/PIL/ImageFile.py\", line 100, in __init__\n",
      "    self._open()\n",
      "  File \"//anaconda/lib/python2.7/site-packages/PIL/IptcImagePlugin.py\", line 113, in _open\n",
      "    layers = i8(self.info[(3, 60)][0])\n",
      "KeyError: (3, 60)\n",
      "ERROR:PIL.ImageFile:%s\n",
      "Traceback (most recent call last):\n",
      "  File \"//anaconda/lib/python2.7/site-packages/PIL/ImageFile.py\", line 100, in __init__\n",
      "    self._open()\n",
      "  File \"//anaconda/lib/python2.7/site-packages/PIL/MpegImagePlugin.py\", line 71, in _open\n",
      "    if s.read(32) != 0x1B3:\n",
      "  File \"//anaconda/lib/python2.7/site-packages/PIL/MpegImagePlugin.py\", line 53, in read\n",
      "    v = self.peek(bits)\n",
      "  File \"//anaconda/lib/python2.7/site-packages/PIL/MpegImagePlugin.py\", line 38, in peek\n",
      "    c = self.next()\n",
      "  File \"//anaconda/lib/python2.7/site-packages/PIL/MpegImagePlugin.py\", line 34, in next\n",
      "    return i8(self.fp.read(1))\n",
      "  File \"//anaconda/lib/python2.7/site-packages/PIL/_binary.py\", line 18, in i8\n",
      "    return ord(c)\n",
      "TypeError: ord() expected a character, but string of length 0 found\n",
      "ERROR:PIL.ImageFile:%s\n",
      "Traceback (most recent call last):\n",
      "  File \"//anaconda/lib/python2.7/site-packages/PIL/ImageFile.py\", line 100, in __init__\n",
      "    self._open()\n",
      "  File \"//anaconda/lib/python2.7/site-packages/PIL/TgaImagePlugin.py\", line 57, in _open\n",
      "    idlen = i8(s[0])\n",
      "IndexError: string index out of range\n"
     ]
    },
    {
     "name": "stdout",
     "output_type": "stream",
     "text": [
      " notMNIST_large/A/SG90IE11c3RhcmQgQlROIFBvc3Rlci50dGY=.png : cannot identify image file 'notMNIST_large/A/SG90IE11c3RhcmQgQlROIFBvc3Rlci50dGY=.png' - it's ok, skipping.\n",
      "Could not read: notMNIST_large/A/Um9tYW5hIEJvbGQucGZi.png : cannot identify image file 'notMNIST_large/A/Um9tYW5hIEJvbGQucGZi.png' - it's ok, skipping.\n",
      "Full dataset tensor: (52924, 28, 28)\n",
      "Mean: -0.128248\n",
      "Standard deviation: 0.443123\n",
      "Pickling notMNIST_large/B.pickle.\n",
      "notMNIST_large/B"
     ]
    },
    {
     "name": "stderr",
     "output_type": "stream",
     "text": [
      "ERROR:PIL.ImageFile:%s\n",
      "Traceback (most recent call last):\n",
      "  File \"//anaconda/lib/python2.7/site-packages/PIL/ImageFile.py\", line 100, in __init__\n",
      "    self._open()\n",
      "  File \"//anaconda/lib/python2.7/site-packages/PIL/IptcImagePlugin.py\", line 113, in _open\n",
      "    layers = i8(self.info[(3, 60)][0])\n",
      "KeyError: (3, 60)\n",
      "ERROR:PIL.ImageFile:%s\n",
      "Traceback (most recent call last):\n",
      "  File \"//anaconda/lib/python2.7/site-packages/PIL/ImageFile.py\", line 100, in __init__\n",
      "    self._open()\n",
      "  File \"//anaconda/lib/python2.7/site-packages/PIL/MpegImagePlugin.py\", line 71, in _open\n",
      "    if s.read(32) != 0x1B3:\n",
      "  File \"//anaconda/lib/python2.7/site-packages/PIL/MpegImagePlugin.py\", line 53, in read\n",
      "    v = self.peek(bits)\n",
      "  File \"//anaconda/lib/python2.7/site-packages/PIL/MpegImagePlugin.py\", line 38, in peek\n",
      "    c = self.next()\n",
      "  File \"//anaconda/lib/python2.7/site-packages/PIL/MpegImagePlugin.py\", line 34, in next\n",
      "    return i8(self.fp.read(1))\n",
      "  File \"//anaconda/lib/python2.7/site-packages/PIL/_binary.py\", line 18, in i8\n",
      "    return ord(c)\n",
      "TypeError: ord() expected a character, but string of length 0 found\n",
      "ERROR:PIL.ImageFile:%s\n",
      "Traceback (most recent call last):\n",
      "  File \"//anaconda/lib/python2.7/site-packages/PIL/ImageFile.py\", line 100, in __init__\n",
      "    self._open()\n",
      "  File \"//anaconda/lib/python2.7/site-packages/PIL/TgaImagePlugin.py\", line 57, in _open\n",
      "    idlen = i8(s[0])\n",
      "IndexError: string index out of range\n"
     ]
    },
    {
     "name": "stdout",
     "output_type": "stream",
     "text": [
      "\n",
      "Could not read: notMNIST_large/B/TmlraXNFRi1TZW1pQm9sZEl0YWxpYy5vdGY=.png : cannot identify image file 'notMNIST_large/B/TmlraXNFRi1TZW1pQm9sZEl0YWxpYy5vdGY=.png' - it's ok, skipping.\n",
      "Full dataset tensor: (52926, 28, 28)\n",
      "Mean: -0.00756075\n",
      "Standard deviation: 0.454492\n",
      "Pickling notMNIST_large/C.pickle.\n",
      "notMNIST_large/C\n",
      "Full dataset tensor: (52925, 28, 28)\n",
      "Mean: -0.14223\n",
      "Standard deviation: 0.439815\n",
      "Pickling notMNIST_large/D.pickle.\n",
      "notMNIST_large/D"
     ]
    },
    {
     "name": "stderr",
     "output_type": "stream",
     "text": [
      "ERROR:PIL.ImageFile:%s\n",
      "Traceback (most recent call last):\n",
      "  File \"//anaconda/lib/python2.7/site-packages/PIL/ImageFile.py\", line 100, in __init__\n",
      "    self._open()\n",
      "  File \"//anaconda/lib/python2.7/site-packages/PIL/IptcImagePlugin.py\", line 113, in _open\n",
      "    layers = i8(self.info[(3, 60)][0])\n",
      "KeyError: (3, 60)\n",
      "ERROR:PIL.ImageFile:%s\n",
      "Traceback (most recent call last):\n",
      "  File \"//anaconda/lib/python2.7/site-packages/PIL/ImageFile.py\", line 100, in __init__\n",
      "    self._open()\n",
      "  File \"//anaconda/lib/python2.7/site-packages/PIL/MpegImagePlugin.py\", line 71, in _open\n",
      "    if s.read(32) != 0x1B3:\n",
      "  File \"//anaconda/lib/python2.7/site-packages/PIL/MpegImagePlugin.py\", line 53, in read\n",
      "    v = self.peek(bits)\n",
      "  File \"//anaconda/lib/python2.7/site-packages/PIL/MpegImagePlugin.py\", line 38, in peek\n",
      "    c = self.next()\n",
      "  File \"//anaconda/lib/python2.7/site-packages/PIL/MpegImagePlugin.py\", line 34, in next\n",
      "    return i8(self.fp.read(1))\n",
      "  File \"//anaconda/lib/python2.7/site-packages/PIL/_binary.py\", line 18, in i8\n",
      "    return ord(c)\n",
      "TypeError: ord() expected a character, but string of length 0 found\n",
      "ERROR:PIL.ImageFile:%s\n",
      "Traceback (most recent call last):\n",
      "  File \"//anaconda/lib/python2.7/site-packages/PIL/ImageFile.py\", line 100, in __init__\n",
      "    self._open()\n",
      "  File \"//anaconda/lib/python2.7/site-packages/PIL/TgaImagePlugin.py\", line 57, in _open\n",
      "    idlen = i8(s[0])\n",
      "IndexError: string index out of range\n"
     ]
    },
    {
     "name": "stdout",
     "output_type": "stream",
     "text": [
      "\n",
      "Could not read: notMNIST_large/D/VHJhbnNpdCBCb2xkLnR0Zg==.png : cannot identify image file 'notMNIST_large/D/VHJhbnNpdCBCb2xkLnR0Zg==.png' - it's ok, skipping.\n",
      "Full dataset tensor: (52927, 28, 28)\n",
      "Mean: -0.0573645\n",
      "Standard deviation: 0.455647\n",
      "Pickling notMNIST_large/E.pickle.\n",
      "notMNIST_large/E\n",
      "Full dataset tensor: (52924, 28, 28)\n",
      "Mean: -0.069908\n",
      "Standard deviation: 0.452941\n",
      "Pickling notMNIST_large/F.pickle.\n",
      "notMNIST_large/F\n",
      "Full dataset tensor: (52933, 28, 28)\n",
      "Mean: -0.125593\n",
      "Standard deviation: 0.447085\n",
      "Pickling notMNIST_large/G.pickle.\n",
      "notMNIST_large/G\n",
      "Full dataset tensor: (52930, 28, 28)\n",
      "Mean: -0.0945837\n",
      "Standard deviation: 0.44624\n",
      "Pickling notMNIST_large/H.pickle.\n",
      "notMNIST_large/H\n",
      "Full dataset tensor: (52935, 28, 28)\n",
      "Mean: -0.0685125\n",
      "Standard deviation: 0.454231\n",
      "Pickling notMNIST_large/I.pickle.\n",
      "notMNIST_large/I\n",
      "Full dataset tensor: (52930, 28, 28)\n",
      "Mean: 0.0307791\n",
      "Standard deviation: 0.468899\n",
      "Pickling notMNIST_large/J.pickle.\n",
      "notMNIST_large/J\n",
      "Full dataset tensor: (52912, 28, 28)\n",
      "Mean: -0.153358\n",
      "Standard deviation: 0.443657\n",
      "Pickling notMNIST_small/A.pickle."
     ]
    },
    {
     "name": "stderr",
     "output_type": "stream",
     "text": [
      "ERROR:PIL.ImageFile:%s\n",
      "Traceback (most recent call last):\n",
      "  File \"//anaconda/lib/python2.7/site-packages/PIL/ImageFile.py\", line 100, in __init__\n",
      "    self._open()\n",
      "  File \"//anaconda/lib/python2.7/site-packages/PIL/IptcImagePlugin.py\", line 113, in _open\n",
      "    layers = i8(self.info[(3, 60)][0])\n",
      "KeyError: (3, 60)\n",
      "ERROR:PIL.ImageFile:%s\n",
      "Traceback (most recent call last):\n",
      "  File \"//anaconda/lib/python2.7/site-packages/PIL/ImageFile.py\", line 100, in __init__\n",
      "    self._open()\n",
      "  File \"//anaconda/lib/python2.7/site-packages/PIL/MpegImagePlugin.py\", line 71, in _open\n",
      "    if s.read(32) != 0x1B3:\n",
      "  File \"//anaconda/lib/python2.7/site-packages/PIL/MpegImagePlugin.py\", line 53, in read\n",
      "    v = self.peek(bits)\n",
      "  File \"//anaconda/lib/python2.7/site-packages/PIL/MpegImagePlugin.py\", line 38, in peek\n",
      "    c = self.next()\n",
      "  File \"//anaconda/lib/python2.7/site-packages/PIL/MpegImagePlugin.py\", line 34, in next\n",
      "    return i8(self.fp.read(1))\n",
      "  File \"//anaconda/lib/python2.7/site-packages/PIL/_binary.py\", line 18, in i8\n",
      "    return ord(c)\n",
      "TypeError: ord() expected a character, but string of length 0 found\n",
      "ERROR:PIL.ImageFile:%s\n",
      "Traceback (most recent call last):\n",
      "  File \"//anaconda/lib/python2.7/site-packages/PIL/ImageFile.py\", line 100, in __init__\n",
      "    self._open()\n",
      "  File \"//anaconda/lib/python2.7/site-packages/PIL/TgaImagePlugin.py\", line 57, in _open\n",
      "    idlen = i8(s[0])\n",
      "IndexError: string index out of range\n"
     ]
    },
    {
     "name": "stdout",
     "output_type": "stream",
     "text": [
      "\n",
      "notMNIST_small/A\n",
      "Could not read: notMNIST_small/A/RGVtb2NyYXRpY2FCb2xkT2xkc3R5bGUgQm9sZC50dGY=.png : cannot identify image file 'notMNIST_small/A/RGVtb2NyYXRpY2FCb2xkT2xkc3R5bGUgQm9sZC50dGY=.png' - it's ok, skipping.\n",
      "Full dataset tensor: (1872, 28, 28)\n",
      "Mean: -0.132626\n",
      "Standard deviation: 0.445128\n",
      "Pickling notMNIST_small/B.pickle.\n",
      "notMNIST_small/B\n",
      "Full dataset tensor: (1873, 28, 28)\n",
      "Mean: 0.00535609\n",
      "Standard deviation: 0.457115\n",
      "Pickling notMNIST_small/C.pickle.\n",
      "notMNIST_small/C\n",
      "Full dataset tensor: (1873, 28, 28)\n",
      "Mean: -0.141521\n",
      "Standard deviation: 0.44269\n",
      "Pickling notMNIST_small/D.pickle.\n",
      "notMNIST_small/D\n",
      "Full dataset tensor: (1874, 28, 28)\n",
      "Mean: -0.0490702\n",
      "Standard deviation: 0.459776\n",
      "Pickling notMNIST_small/E.pickle.\n",
      "notMNIST_small/E\n",
      "Full dataset tensor: (1873, 28, 28)\n",
      "Mean: -0.0599148\n",
      "Standard deviation: 0.45735\n",
      "Pickling notMNIST_small/F.pickle.\n",
      "notMNIST_small/F"
     ]
    },
    {
     "name": "stderr",
     "output_type": "stream",
     "text": [
      "ERROR:PIL.ImageFile:%s\n",
      "Traceback (most recent call last):\n",
      "  File \"//anaconda/lib/python2.7/site-packages/PIL/ImageFile.py\", line 100, in __init__\n",
      "    self._open()\n",
      "  File \"//anaconda/lib/python2.7/site-packages/PIL/IptcImagePlugin.py\", line 113, in _open\n",
      "    layers = i8(self.info[(3, 60)][0])\n",
      "KeyError: (3, 60)\n",
      "ERROR:PIL.ImageFile:%s\n",
      "Traceback (most recent call last):\n",
      "  File \"//anaconda/lib/python2.7/site-packages/PIL/ImageFile.py\", line 100, in __init__\n",
      "    self._open()\n",
      "  File \"//anaconda/lib/python2.7/site-packages/PIL/MpegImagePlugin.py\", line 71, in _open\n",
      "    if s.read(32) != 0x1B3:\n",
      "  File \"//anaconda/lib/python2.7/site-packages/PIL/MpegImagePlugin.py\", line 53, in read\n",
      "    v = self.peek(bits)\n",
      "  File \"//anaconda/lib/python2.7/site-packages/PIL/MpegImagePlugin.py\", line 38, in peek\n",
      "    c = self.next()\n",
      "  File \"//anaconda/lib/python2.7/site-packages/PIL/MpegImagePlugin.py\", line 34, in next\n",
      "    return i8(self.fp.read(1))\n",
      "  File \"//anaconda/lib/python2.7/site-packages/PIL/_binary.py\", line 18, in i8\n",
      "    return ord(c)\n",
      "TypeError: ord() expected a character, but string of length 0 found\n",
      "ERROR:PIL.ImageFile:%s\n",
      "Traceback (most recent call last):\n",
      "  File \"//anaconda/lib/python2.7/site-packages/PIL/ImageFile.py\", line 100, in __init__\n",
      "    self._open()\n",
      "  File \"//anaconda/lib/python2.7/site-packages/PIL/TgaImagePlugin.py\", line 57, in _open\n",
      "    idlen = i8(s[0])\n",
      "IndexError: string index out of range\n"
     ]
    },
    {
     "name": "stdout",
     "output_type": "stream",
     "text": [
      "\n",
      "Could not read: notMNIST_small/F/Q3Jvc3NvdmVyIEJvbGRPYmxpcXVlLnR0Zg==.png : cannot identify image file 'notMNIST_small/F/Q3Jvc3NvdmVyIEJvbGRPYmxpcXVlLnR0Zg==.png' - it's ok, skipping.\n",
      "Full dataset tensor: (1874, 28, 28)\n",
      "Mean: -0.11809\n",
      "Standard deviation: 0.452315\n",
      "Pickling notMNIST_small/G.pickle.\n",
      "notMNIST_small/G\n",
      "Full dataset tensor: (1872, 28, 28)\n",
      "Mean: -0.0925503\n",
      "Standard deviation: 0.449006\n",
      "Pickling notMNIST_small/H.pickle.\n",
      "notMNIST_small/H\n",
      "Full dataset tensor: (1872, 28, 28)\n",
      "Mean: -0.0586893\n",
      "Standard deviation: 0.458759\n",
      "Pickling notMNIST_small/I.pickle.\n",
      "notMNIST_small/I\n",
      "Full dataset tensor: (1872, 28, 28)\n",
      "Mean: 0.0526451\n",
      "Standard deviation: 0.471894\n",
      "Pickling notMNIST_small/J.pickle.\n",
      "notMNIST_small/J\n",
      "Full dataset tensor: (1872, 28, 28)\n",
      "Mean: -0.151689\n",
      "Standard deviation: 0.448014\n"
     ]
    }
   ],
   "source": [
    "image_size = 28  # Pixel width and height.\n",
    "pixel_depth = 255.0  # Number of levels per pixel.\n",
    "\n",
    "def load_letter(folder, min_num_images):\n",
    "  \"\"\"Load the data for a single letter label.\"\"\"\n",
    "  image_files = os.listdir(folder)\n",
    "  dataset = np.ndarray(shape=(len(image_files), image_size, image_size),\n",
    "                         dtype=np.float32)\n",
    "  print(folder)\n",
    "  num_images = 0\n",
    "  for image in image_files:\n",
    "    image_file = os.path.join(folder, image)\n",
    "    try:\n",
    "      image_data = (ndimage.imread(image_file).astype(float) - \n",
    "                    pixel_depth / 2) / pixel_depth\n",
    "      if image_data.shape != (image_size, image_size):\n",
    "        raise Exception('Unexpected image shape: %s' % str(image_data.shape))\n",
    "      dataset[num_images, :, :] = image_data\n",
    "      num_images = num_images + 1\n",
    "    except IOError as e:\n",
    "      print('Could not read:', image_file, ':', e, '- it\\'s ok, skipping.')\n",
    "    \n",
    "  dataset = dataset[0:num_images, :, :]\n",
    "  if num_images < min_num_images:\n",
    "    raise Exception('Many fewer images than expected: %d < %d' %\n",
    "                    (num_images, min_num_images))\n",
    "    \n",
    "  print('Full dataset tensor:', dataset.shape)\n",
    "  print('Mean:', np.mean(dataset))\n",
    "  print('Standard deviation:', np.std(dataset))\n",
    "  return dataset\n",
    "        \n",
    "def maybe_pickle(data_folders, min_num_images_per_class, force=False):\n",
    "  dataset_names = []\n",
    "  for folder in data_folders:\n",
    "    set_filename = folder + '.pickle'\n",
    "    dataset_names.append(set_filename)\n",
    "    if os.path.exists(set_filename) and not force:\n",
    "      # You may override by setting force=True.\n",
    "      print('%s already present - Skipping pickling.' % set_filename)\n",
    "    else:\n",
    "      print('Pickling %s.' % set_filename)\n",
    "      dataset = load_letter(folder, min_num_images_per_class)\n",
    "      try:\n",
    "        with open(set_filename, 'wb') as f:\n",
    "          pickle.dump(dataset, f, pickle.HIGHEST_PROTOCOL)\n",
    "      except Exception as e:\n",
    "        print('Unable to save data to', set_filename, ':', e)\n",
    "  \n",
    "  return dataset_names\n",
    "\n",
    "train_datasets = maybe_pickle(train_folders, 45000, force=True)\n",
    "test_datasets = maybe_pickle(test_folders, 1800, force=True)"
   ]
  },
  {
   "cell_type": "markdown",
   "metadata": {
    "colab_type": "text",
    "id": "vUdbskYE2d87"
   },
   "source": [
    "---\n",
    "Problem 2\n",
    "---------\n",
    "\n",
    "Let's verify that the data still looks good. Displaying a sample of the labels and images from the ndarray. Hint: you can use matplotlib.pyplot.\n",
    "\n",
    "---"
   ]
  },
  {
   "cell_type": "code",
   "execution_count": 8,
   "metadata": {
    "collapsed": false,
    "scrolled": true
   },
   "outputs": [
    {
     "data": {
      "text/plain": [
       "['notMNIST_large/A.pickle',\n",
       " 'notMNIST_large/B.pickle',\n",
       " 'notMNIST_large/C.pickle',\n",
       " 'notMNIST_large/D.pickle',\n",
       " 'notMNIST_large/E.pickle',\n",
       " 'notMNIST_large/F.pickle',\n",
       " 'notMNIST_large/G.pickle',\n",
       " 'notMNIST_large/H.pickle',\n",
       " 'notMNIST_large/I.pickle',\n",
       " 'notMNIST_large/J.pickle']"
      ]
     },
     "metadata": {},
     "output_type": "display_data"
    },
    {
     "data": {
      "text/plain": [
       "['notMNIST_small/A.pickle',\n",
       " 'notMNIST_small/B.pickle',\n",
       " 'notMNIST_small/C.pickle',\n",
       " 'notMNIST_small/D.pickle',\n",
       " 'notMNIST_small/E.pickle',\n",
       " 'notMNIST_small/F.pickle',\n",
       " 'notMNIST_small/G.pickle',\n",
       " 'notMNIST_small/H.pickle',\n",
       " 'notMNIST_small/I.pickle',\n",
       " 'notMNIST_small/J.pickle']"
      ]
     },
     "metadata": {},
     "output_type": "display_data"
    },
    {
     "data": {
      "text/plain": [
       "['notMNIST_large/A',\n",
       " 'notMNIST_large/B',\n",
       " 'notMNIST_large/C',\n",
       " 'notMNIST_large/D',\n",
       " 'notMNIST_large/E',\n",
       " 'notMNIST_large/F',\n",
       " 'notMNIST_large/G',\n",
       " 'notMNIST_large/H',\n",
       " 'notMNIST_large/I',\n",
       " 'notMNIST_large/J']"
      ]
     },
     "metadata": {},
     "output_type": "display_data"
    },
    {
     "data": {
      "text/plain": [
       "['notMNIST_small/A',\n",
       " 'notMNIST_small/B',\n",
       " 'notMNIST_small/C',\n",
       " 'notMNIST_small/D',\n",
       " 'notMNIST_small/E',\n",
       " 'notMNIST_small/F',\n",
       " 'notMNIST_small/G',\n",
       " 'notMNIST_small/H',\n",
       " 'notMNIST_small/I',\n",
       " 'notMNIST_small/J']"
      ]
     },
     "metadata": {},
     "output_type": "display_data"
    }
   ],
   "source": [
    "display(train_datasets)\n",
    "display(test_datasets)\n",
    "\n",
    "display(train_folders)\n",
    "display(test_folders)"
   ]
  },
  {
   "cell_type": "code",
   "execution_count": 9,
   "metadata": {
    "collapsed": false,
    "scrolled": true
   },
   "outputs": [
    {
     "name": "stdout",
     "output_type": "stream",
     "text": [
      "notMNIST_large/A\n",
      "Could not read:"
     ]
    },
    {
     "name": "stderr",
     "output_type": "stream",
     "text": [
      "ERROR:PIL.ImageFile:%s\n",
      "Traceback (most recent call last):\n",
      "  File \"//anaconda/lib/python2.7/site-packages/PIL/ImageFile.py\", line 100, in __init__\n",
      "    self._open()\n",
      "  File \"//anaconda/lib/python2.7/site-packages/PIL/IptcImagePlugin.py\", line 113, in _open\n",
      "    layers = i8(self.info[(3, 60)][0])\n",
      "KeyError: (3, 60)\n",
      "ERROR:PIL.ImageFile:%s\n",
      "Traceback (most recent call last):\n",
      "  File \"//anaconda/lib/python2.7/site-packages/PIL/ImageFile.py\", line 100, in __init__\n",
      "    self._open()\n",
      "  File \"//anaconda/lib/python2.7/site-packages/PIL/MpegImagePlugin.py\", line 71, in _open\n",
      "    if s.read(32) != 0x1B3:\n",
      "  File \"//anaconda/lib/python2.7/site-packages/PIL/MpegImagePlugin.py\", line 53, in read\n",
      "    v = self.peek(bits)\n",
      "  File \"//anaconda/lib/python2.7/site-packages/PIL/MpegImagePlugin.py\", line 38, in peek\n",
      "    c = self.next()\n",
      "  File \"//anaconda/lib/python2.7/site-packages/PIL/MpegImagePlugin.py\", line 34, in next\n",
      "    return i8(self.fp.read(1))\n",
      "  File \"//anaconda/lib/python2.7/site-packages/PIL/_binary.py\", line 18, in i8\n",
      "    return ord(c)\n",
      "TypeError: ord() expected a character, but string of length 0 found\n",
      "ERROR:PIL.ImageFile:%s\n",
      "Traceback (most recent call last):\n",
      "  File \"//anaconda/lib/python2.7/site-packages/PIL/ImageFile.py\", line 100, in __init__\n",
      "    self._open()\n",
      "  File \"//anaconda/lib/python2.7/site-packages/PIL/TgaImagePlugin.py\", line 57, in _open\n",
      "    idlen = i8(s[0])\n",
      "IndexError: string index out of range\n"
     ]
    },
    {
     "name": "stdout",
     "output_type": "stream",
     "text": [
      " notMNIST_large/A/RnJlaWdodERpc3BCb29rSXRhbGljLnR0Zg==.png : cannot identify image file 'notMNIST_large/A/RnJlaWdodERpc3BCb29rSXRhbGljLnR0Zg==.png' - it's ok, skipping.\n",
      "Could not read:"
     ]
    },
    {
     "name": "stderr",
     "output_type": "stream",
     "text": [
      "ERROR:PIL.ImageFile:%s\n",
      "Traceback (most recent call last):\n",
      "  File \"//anaconda/lib/python2.7/site-packages/PIL/ImageFile.py\", line 100, in __init__\n",
      "    self._open()\n",
      "  File \"//anaconda/lib/python2.7/site-packages/PIL/IptcImagePlugin.py\", line 113, in _open\n",
      "    layers = i8(self.info[(3, 60)][0])\n",
      "KeyError: (3, 60)\n",
      "ERROR:PIL.ImageFile:%s\n",
      "Traceback (most recent call last):\n",
      "  File \"//anaconda/lib/python2.7/site-packages/PIL/ImageFile.py\", line 100, in __init__\n",
      "    self._open()\n",
      "  File \"//anaconda/lib/python2.7/site-packages/PIL/MpegImagePlugin.py\", line 71, in _open\n",
      "    if s.read(32) != 0x1B3:\n",
      "  File \"//anaconda/lib/python2.7/site-packages/PIL/MpegImagePlugin.py\", line 53, in read\n",
      "    v = self.peek(bits)\n",
      "  File \"//anaconda/lib/python2.7/site-packages/PIL/MpegImagePlugin.py\", line 38, in peek\n",
      "    c = self.next()\n",
      "  File \"//anaconda/lib/python2.7/site-packages/PIL/MpegImagePlugin.py\", line 34, in next\n",
      "    return i8(self.fp.read(1))\n",
      "  File \"//anaconda/lib/python2.7/site-packages/PIL/_binary.py\", line 18, in i8\n",
      "    return ord(c)\n",
      "TypeError: ord() expected a character, but string of length 0 found\n",
      "ERROR:PIL.ImageFile:%s\n",
      "Traceback (most recent call last):\n",
      "  File \"//anaconda/lib/python2.7/site-packages/PIL/ImageFile.py\", line 100, in __init__\n",
      "    self._open()\n",
      "  File \"//anaconda/lib/python2.7/site-packages/PIL/TgaImagePlugin.py\", line 57, in _open\n",
      "    idlen = i8(s[0])\n",
      "IndexError: string index out of range\n"
     ]
    },
    {
     "name": "stdout",
     "output_type": "stream",
     "text": [
      " notMNIST_large/A/SG90IE11c3RhcmQgQlROIFBvc3Rlci50dGY=.png : cannot identify image file 'notMNIST_large/A/SG90IE11c3RhcmQgQlROIFBvc3Rlci50dGY=.png' - it's ok, skipping.\n",
      "Could not read: notMNIST_large/A/Um9tYW5hIEJvbGQucGZi.png : cannot identify image file 'notMNIST_large/A/Um9tYW5hIEJvbGQucGZi.png' - it's ok, skipping.\n",
      "Full dataset tensor: (52924, 28, 28)\n",
      "Mean: -0.128248\n",
      "Standard deviation: 0.443123\n",
      "notMNIST_large/B"
     ]
    },
    {
     "name": "stderr",
     "output_type": "stream",
     "text": [
      "ERROR:PIL.ImageFile:%s\n",
      "Traceback (most recent call last):\n",
      "  File \"//anaconda/lib/python2.7/site-packages/PIL/ImageFile.py\", line 100, in __init__\n",
      "    self._open()\n",
      "  File \"//anaconda/lib/python2.7/site-packages/PIL/IptcImagePlugin.py\", line 113, in _open\n",
      "    layers = i8(self.info[(3, 60)][0])\n",
      "KeyError: (3, 60)\n",
      "ERROR:PIL.ImageFile:%s\n",
      "Traceback (most recent call last):\n",
      "  File \"//anaconda/lib/python2.7/site-packages/PIL/ImageFile.py\", line 100, in __init__\n",
      "    self._open()\n",
      "  File \"//anaconda/lib/python2.7/site-packages/PIL/MpegImagePlugin.py\", line 71, in _open\n",
      "    if s.read(32) != 0x1B3:\n",
      "  File \"//anaconda/lib/python2.7/site-packages/PIL/MpegImagePlugin.py\", line 53, in read\n",
      "    v = self.peek(bits)\n",
      "  File \"//anaconda/lib/python2.7/site-packages/PIL/MpegImagePlugin.py\", line 38, in peek\n",
      "    c = self.next()\n",
      "  File \"//anaconda/lib/python2.7/site-packages/PIL/MpegImagePlugin.py\", line 34, in next\n",
      "    return i8(self.fp.read(1))\n",
      "  File \"//anaconda/lib/python2.7/site-packages/PIL/_binary.py\", line 18, in i8\n",
      "    return ord(c)\n",
      "TypeError: ord() expected a character, but string of length 0 found\n",
      "ERROR:PIL.ImageFile:%s\n",
      "Traceback (most recent call last):\n",
      "  File \"//anaconda/lib/python2.7/site-packages/PIL/ImageFile.py\", line 100, in __init__\n",
      "    self._open()\n",
      "  File \"//anaconda/lib/python2.7/site-packages/PIL/TgaImagePlugin.py\", line 57, in _open\n",
      "    idlen = i8(s[0])\n",
      "IndexError: string index out of range\n"
     ]
    },
    {
     "name": "stdout",
     "output_type": "stream",
     "text": [
      "\n",
      "Could not read: notMNIST_large/B/TmlraXNFRi1TZW1pQm9sZEl0YWxpYy5vdGY=.png : cannot identify image file 'notMNIST_large/B/TmlraXNFRi1TZW1pQm9sZEl0YWxpYy5vdGY=.png' - it's ok, skipping.\n",
      "Full dataset tensor: (52926, 28, 28)\n",
      "Mean: -0.00756075\n",
      "Standard deviation: 0.454492\n",
      "notMNIST_large/C\n",
      "Full dataset tensor: (52925, 28, 28)\n",
      "Mean: -0.14223\n",
      "Standard deviation: 0.439815\n",
      "notMNIST_large/D"
     ]
    },
    {
     "name": "stderr",
     "output_type": "stream",
     "text": [
      "ERROR:PIL.ImageFile:%s\n",
      "Traceback (most recent call last):\n",
      "  File \"//anaconda/lib/python2.7/site-packages/PIL/ImageFile.py\", line 100, in __init__\n",
      "    self._open()\n",
      "  File \"//anaconda/lib/python2.7/site-packages/PIL/IptcImagePlugin.py\", line 113, in _open\n",
      "    layers = i8(self.info[(3, 60)][0])\n",
      "KeyError: (3, 60)\n",
      "ERROR:PIL.ImageFile:%s\n",
      "Traceback (most recent call last):\n",
      "  File \"//anaconda/lib/python2.7/site-packages/PIL/ImageFile.py\", line 100, in __init__\n",
      "    self._open()\n",
      "  File \"//anaconda/lib/python2.7/site-packages/PIL/MpegImagePlugin.py\", line 71, in _open\n",
      "    if s.read(32) != 0x1B3:\n",
      "  File \"//anaconda/lib/python2.7/site-packages/PIL/MpegImagePlugin.py\", line 53, in read\n",
      "    v = self.peek(bits)\n",
      "  File \"//anaconda/lib/python2.7/site-packages/PIL/MpegImagePlugin.py\", line 38, in peek\n",
      "    c = self.next()\n",
      "  File \"//anaconda/lib/python2.7/site-packages/PIL/MpegImagePlugin.py\", line 34, in next\n",
      "    return i8(self.fp.read(1))\n",
      "  File \"//anaconda/lib/python2.7/site-packages/PIL/_binary.py\", line 18, in i8\n",
      "    return ord(c)\n",
      "TypeError: ord() expected a character, but string of length 0 found\n",
      "ERROR:PIL.ImageFile:%s\n",
      "Traceback (most recent call last):\n",
      "  File \"//anaconda/lib/python2.7/site-packages/PIL/ImageFile.py\", line 100, in __init__\n",
      "    self._open()\n",
      "  File \"//anaconda/lib/python2.7/site-packages/PIL/TgaImagePlugin.py\", line 57, in _open\n",
      "    idlen = i8(s[0])\n",
      "IndexError: string index out of range\n"
     ]
    },
    {
     "name": "stdout",
     "output_type": "stream",
     "text": [
      "\n",
      "Could not read: notMNIST_large/D/VHJhbnNpdCBCb2xkLnR0Zg==.png : cannot identify image file 'notMNIST_large/D/VHJhbnNpdCBCb2xkLnR0Zg==.png' - it's ok, skipping.\n",
      "Full dataset tensor: (52927, 28, 28)\n",
      "Mean: -0.0573645\n",
      "Standard deviation: 0.455647\n",
      "notMNIST_large/E\n",
      "Full dataset tensor: (52924, 28, 28)\n",
      "Mean: -0.069908\n",
      "Standard deviation: 0.452941\n",
      "notMNIST_large/F\n",
      "Full dataset tensor: (52933, 28, 28)\n",
      "Mean: -0.125593\n",
      "Standard deviation: 0.447085\n",
      "notMNIST_large/G\n",
      "Full dataset tensor: (52930, 28, 28)\n",
      "Mean: -0.0945837\n",
      "Standard deviation: 0.44624\n",
      "notMNIST_large/H\n",
      "Full dataset tensor: (52935, 28, 28)\n",
      "Mean: -0.0685125\n",
      "Standard deviation: 0.454231\n",
      "notMNIST_large/I\n",
      "Full dataset tensor: (52930, 28, 28)\n",
      "Mean: 0.0307791\n",
      "Standard deviation: 0.468899\n",
      "notMNIST_large/J\n",
      "Full dataset tensor: (52912, 28, 28)\n",
      "Mean: -0.153358\n",
      "Standard deviation: 0.443657\n",
      "notMNIST_small/A"
     ]
    },
    {
     "name": "stderr",
     "output_type": "stream",
     "text": [
      "ERROR:PIL.ImageFile:%s\n",
      "Traceback (most recent call last):\n",
      "  File \"//anaconda/lib/python2.7/site-packages/PIL/ImageFile.py\", line 100, in __init__\n",
      "    self._open()\n",
      "  File \"//anaconda/lib/python2.7/site-packages/PIL/IptcImagePlugin.py\", line 113, in _open\n",
      "    layers = i8(self.info[(3, 60)][0])\n",
      "KeyError: (3, 60)\n",
      "ERROR:PIL.ImageFile:%s\n",
      "Traceback (most recent call last):\n",
      "  File \"//anaconda/lib/python2.7/site-packages/PIL/ImageFile.py\", line 100, in __init__\n",
      "    self._open()\n",
      "  File \"//anaconda/lib/python2.7/site-packages/PIL/MpegImagePlugin.py\", line 71, in _open\n",
      "    if s.read(32) != 0x1B3:\n",
      "  File \"//anaconda/lib/python2.7/site-packages/PIL/MpegImagePlugin.py\", line 53, in read\n",
      "    v = self.peek(bits)\n",
      "  File \"//anaconda/lib/python2.7/site-packages/PIL/MpegImagePlugin.py\", line 38, in peek\n",
      "    c = self.next()\n",
      "  File \"//anaconda/lib/python2.7/site-packages/PIL/MpegImagePlugin.py\", line 34, in next\n",
      "    return i8(self.fp.read(1))\n",
      "  File \"//anaconda/lib/python2.7/site-packages/PIL/_binary.py\", line 18, in i8\n",
      "    return ord(c)\n",
      "TypeError: ord() expected a character, but string of length 0 found\n",
      "ERROR:PIL.ImageFile:%s\n",
      "Traceback (most recent call last):\n",
      "  File \"//anaconda/lib/python2.7/site-packages/PIL/ImageFile.py\", line 100, in __init__\n",
      "    self._open()\n",
      "  File \"//anaconda/lib/python2.7/site-packages/PIL/TgaImagePlugin.py\", line 57, in _open\n",
      "    idlen = i8(s[0])\n",
      "IndexError: string index out of range\n"
     ]
    },
    {
     "name": "stdout",
     "output_type": "stream",
     "text": [
      "\n",
      "Could not read: notMNIST_small/A/RGVtb2NyYXRpY2FCb2xkT2xkc3R5bGUgQm9sZC50dGY=.png : cannot identify image file 'notMNIST_small/A/RGVtb2NyYXRpY2FCb2xkT2xkc3R5bGUgQm9sZC50dGY=.png' - it's ok, skipping.\n",
      "Full dataset tensor: (1872, 28, 28)\n",
      "Mean: -0.132626\n",
      "Standard deviation: 0.445128\n",
      "notMNIST_small/B\n",
      "Full dataset tensor: (1873, 28, 28)\n",
      "Mean: 0.00535609\n",
      "Standard deviation: 0.457115\n",
      "notMNIST_small/C\n",
      "Full dataset tensor: (1873, 28, 28)\n",
      "Mean: -0.141521\n",
      "Standard deviation: 0.44269\n",
      "notMNIST_small/D\n",
      "Full dataset tensor: (1874, 28, 28)\n",
      "Mean: -0.0490702\n",
      "Standard deviation: 0.459776\n",
      "notMNIST_small/E\n",
      "Full dataset tensor: (1873, 28, 28)\n",
      "Mean: -0.0599148\n",
      "Standard deviation: 0.45735\n",
      "notMNIST_small/F"
     ]
    },
    {
     "name": "stderr",
     "output_type": "stream",
     "text": [
      "ERROR:PIL.ImageFile:%s\n",
      "Traceback (most recent call last):\n",
      "  File \"//anaconda/lib/python2.7/site-packages/PIL/ImageFile.py\", line 100, in __init__\n",
      "    self._open()\n",
      "  File \"//anaconda/lib/python2.7/site-packages/PIL/IptcImagePlugin.py\", line 113, in _open\n",
      "    layers = i8(self.info[(3, 60)][0])\n",
      "KeyError: (3, 60)\n",
      "ERROR:PIL.ImageFile:%s\n",
      "Traceback (most recent call last):\n",
      "  File \"//anaconda/lib/python2.7/site-packages/PIL/ImageFile.py\", line 100, in __init__\n",
      "    self._open()\n",
      "  File \"//anaconda/lib/python2.7/site-packages/PIL/MpegImagePlugin.py\", line 71, in _open\n",
      "    if s.read(32) != 0x1B3:\n",
      "  File \"//anaconda/lib/python2.7/site-packages/PIL/MpegImagePlugin.py\", line 53, in read\n",
      "    v = self.peek(bits)\n",
      "  File \"//anaconda/lib/python2.7/site-packages/PIL/MpegImagePlugin.py\", line 38, in peek\n",
      "    c = self.next()\n",
      "  File \"//anaconda/lib/python2.7/site-packages/PIL/MpegImagePlugin.py\", line 34, in next\n",
      "    return i8(self.fp.read(1))\n",
      "  File \"//anaconda/lib/python2.7/site-packages/PIL/_binary.py\", line 18, in i8\n",
      "    return ord(c)\n",
      "TypeError: ord() expected a character, but string of length 0 found\n",
      "ERROR:PIL.ImageFile:%s\n",
      "Traceback (most recent call last):\n",
      "  File \"//anaconda/lib/python2.7/site-packages/PIL/ImageFile.py\", line 100, in __init__\n",
      "    self._open()\n",
      "  File \"//anaconda/lib/python2.7/site-packages/PIL/TgaImagePlugin.py\", line 57, in _open\n",
      "    idlen = i8(s[0])\n",
      "IndexError: string index out of range\n"
     ]
    },
    {
     "name": "stdout",
     "output_type": "stream",
     "text": [
      "\n",
      "Could not read: notMNIST_small/F/Q3Jvc3NvdmVyIEJvbGRPYmxpcXVlLnR0Zg==.png : cannot identify image file 'notMNIST_small/F/Q3Jvc3NvdmVyIEJvbGRPYmxpcXVlLnR0Zg==.png' - it's ok, skipping.\n",
      "Full dataset tensor: (1874, 28, 28)\n",
      "Mean: -0.11809\n",
      "Standard deviation: 0.452315\n",
      "notMNIST_small/G\n",
      "Full dataset tensor: (1872, 28, 28)\n",
      "Mean: -0.0925503\n",
      "Standard deviation: 0.449006\n",
      "notMNIST_small/H\n",
      "Full dataset tensor: (1872, 28, 28)\n",
      "Mean: -0.0586893\n",
      "Standard deviation: 0.458759\n",
      "notMNIST_small/I\n",
      "Full dataset tensor: (1872, 28, 28)\n",
      "Mean: 0.0526451\n",
      "Standard deviation: 0.471894\n",
      "notMNIST_small/J\n",
      "Full dataset tensor: (1872, 28, 28)\n",
      "Mean: -0.151689\n",
      "Standard deviation: 0.448014\n"
     ]
    }
   ],
   "source": [
    "train_dataset = []\n",
    "train_labels = []\n",
    "for train_folder in train_folders:\n",
    "    train_labels.append(train_folder.replace(\"notMNIST_large/\", \"\"))\n",
    "    train_dataset.append(load_letter(train_folder,10))\n",
    "test_dataset = []\n",
    "test_labels = []\n",
    "for test_folder in test_folders:\n",
    "    test_labels.append(test_folder.replace(\"notMNIST_small/\", \"\"))\n",
    "    test_dataset.append(load_letter(test_folder,10))"
   ]
  },
  {
   "cell_type": "code",
   "execution_count": 10,
   "metadata": {
    "collapsed": false
   },
   "outputs": [
    {
     "name": "stderr",
     "output_type": "stream",
     "text": [
      "//anaconda/lib/python2.7/site-packages/matplotlib/__init__.py:872: UserWarning: axes.color_cycle is deprecated and replaced with axes.prop_cycle; please use the latter.\n",
      "  warnings.warn(self.msg_depr % (key, alt_key))\n"
     ]
    },
    {
     "data": {
      "image/png": "[encoded data removed]",
      "text/plain": [
       "<matplotlib.figure.Figure at 0x117166ad0>"
      ]
     },
     "metadata": {},
     "output_type": "display_data"
    }
   ],
   "source": [
    "%matplotlib inline\n",
    "from random import randint\n",
    "import matplotlib.pyplot as plt\n",
    "import seaborn as sns\n",
    "\n",
    "fig = plt.figure(figsize=(10,4))\n",
    "for i in range(10):\n",
    "    ax = fig.add_subplot(2,5,i+1)\n",
    "    plt.imshow(train_dataset[i][randint(0,len(train_dataset[i]))])\n",
    "    ax.set_title(train_labels[i])\n",
    "plt.tight_layout()\n",
    "fig = plt.gcf()"
   ]
  },
  {
   "cell_type": "code",
   "execution_count": 11,
   "metadata": {
    "collapsed": false
   },
   "outputs": [
    {
     "data": {
      "image/png": "[encoded data removed]",
      "text/plain": [
       "<matplotlib.figure.Figure at 0x103d8de50>"
      ]
     },
     "metadata": {},
     "output_type": "display_data"
    }
   ],
   "source": [
    "fig = plt.figure(figsize=(10,4))\n",
    "for i in range(10):\n",
    "    ax = fig.add_subplot(2,5,i+1)\n",
    "    plt.imshow(test_dataset[i][randint(0,len(test_dataset[i]))])\n",
    "    ax.set_title(test_labels[i])\n",
    "plt.tight_layout()\n",
    "fig = plt.gcf()"
   ]
  },
  {
   "cell_type": "markdown",
   "metadata": {
    "colab_type": "text",
    "id": "cYznx5jUwzoO"
   },
   "source": [
    "---\n",
    "Problem 3\n",
    "---------\n",
    "Another check: we expect the data to be balanced across classes. Verify that.\n",
    "\n",
    "---"
   ]
  },
  {
   "cell_type": "code",
   "execution_count": 12,
   "metadata": {
    "collapsed": false
   },
   "outputs": [
    {
     "data": {
      "text/plain": [
       "52924"
      ]
     },
     "metadata": {},
     "output_type": "display_data"
    },
    {
     "data": {
      "text/plain": [
       "52926"
      ]
     },
     "metadata": {},
     "output_type": "display_data"
    },
    {
     "data": {
      "text/plain": [
       "52925"
      ]
     },
     "metadata": {},
     "output_type": "display_data"
    },
    {
     "data": {
      "text/plain": [
       "52927"
      ]
     },
     "metadata": {},
     "output_type": "display_data"
    },
    {
     "data": {
      "text/plain": [
       "52924"
      ]
     },
     "metadata": {},
     "output_type": "display_data"
    },
    {
     "data": {
      "text/plain": [
       "52933"
      ]
     },
     "metadata": {},
     "output_type": "display_data"
    },
    {
     "data": {
      "text/plain": [
       "52930"
      ]
     },
     "metadata": {},
     "output_type": "display_data"
    },
    {
     "data": {
      "text/plain": [
       "52935"
      ]
     },
     "metadata": {},
     "output_type": "display_data"
    },
    {
     "data": {
      "text/plain": [
       "52930"
      ]
     },
     "metadata": {},
     "output_type": "display_data"
    },
    {
     "data": {
      "text/plain": [
       "52912"
      ]
     },
     "metadata": {},
     "output_type": "display_data"
    },
    {
     "data": {
      "text/plain": [
       "1872"
      ]
     },
     "metadata": {},
     "output_type": "display_data"
    },
    {
     "data": {
      "text/plain": [
       "1873"
      ]
     },
     "metadata": {},
     "output_type": "display_data"
    },
    {
     "data": {
      "text/plain": [
       "1873"
      ]
     },
     "metadata": {},
     "output_type": "display_data"
    },
    {
     "data": {
      "text/plain": [
       "1874"
      ]
     },
     "metadata": {},
     "output_type": "display_data"
    },
    {
     "data": {
      "text/plain": [
       "1873"
      ]
     },
     "metadata": {},
     "output_type": "display_data"
    },
    {
     "data": {
      "text/plain": [
       "1874"
      ]
     },
     "metadata": {},
     "output_type": "display_data"
    },
    {
     "data": {
      "text/plain": [
       "1872"
      ]
     },
     "metadata": {},
     "output_type": "display_data"
    },
    {
     "data": {
      "text/plain": [
       "1872"
      ]
     },
     "metadata": {},
     "output_type": "display_data"
    },
    {
     "data": {
      "text/plain": [
       "1872"
      ]
     },
     "metadata": {},
     "output_type": "display_data"
    },
    {
     "data": {
      "text/plain": [
       "1872"
      ]
     },
     "metadata": {},
     "output_type": "display_data"
    }
   ],
   "source": [
    "for dataset in train_dataset:\n",
    "    display(len(dataset))\n",
    "for dataset in test_dataset:\n",
    "    display(len(dataset))"
   ]
  },
  {
   "cell_type": "markdown",
   "metadata": {
    "colab_type": "text",
    "id": "LA7M7K22ynCt"
   },
   "source": [
    "Merge and prune the training data as needed. Depending on your computer setup, you might not be able to fit it all in memory, and you can tune `train_size` as needed. The labels will be stored into a separate array of integers 0 through 9.\n",
    "\n",
    "Also create a validation dataset for hyperparameter tuning."
   ]
  },
  {
   "cell_type": "code",
   "execution_count": 13,
   "metadata": {
    "cellView": "both",
    "colab": {
     "autoexec": {
      "startup": false,
      "wait_interval": 0
     },
     "output_extras": [
      {
       "item_id": 1
      }
     ]
    },
    "colab_type": "code",
    "collapsed": false,
    "executionInfo": {
     "elapsed": 411281,
     "status": "ok",
     "timestamp": 1444485897869,
     "user": {
      "color": "#1FA15D",
      "displayName": "Vincent Vanhoucke",
      "isAnonymous": false,
      "isMe": true,
      "permissionId": "05076109866853157986",
      "photoUrl": "//lh6.googleusercontent.com/-cCJa7dTDcgQ/AAAAAAAAAAI/AAAAAAAACgw/r2EZ_8oYer4/s50-c-k-no/photo.jpg",
      "sessionId": "2a0a5e044bb03b66",
      "userId": "102167687554210253930"
     },
     "user_tz": 420
    },
    "id": "s3mWgZLpyuzq",
    "outputId": "8af66da6-902d-4719-bedc-7c9fb7ae7948"
   },
   "outputs": [
    {
     "name": "stdout",
     "output_type": "stream",
     "text": [
      "Training: (200000, 28, 28) (200000,)\n",
      "Validation: (10000, 28, 28) (10000,)\n",
      "Testing: (10000, 28, 28) (10000,)\n"
     ]
    }
   ],
   "source": [
    "def make_arrays(nb_rows, img_size):\n",
    "  if nb_rows:\n",
    "    dataset = np.ndarray((nb_rows, img_size, img_size), dtype=np.float32)\n",
    "    labels = np.ndarray(nb_rows, dtype=np.int32)\n",
    "  else:\n",
    "    dataset, labels = None, None\n",
    "  return dataset, labels\n",
    "\n",
    "def merge_datasets(pickle_files, train_size, valid_size=0):\n",
    "  num_classes = len(pickle_files)\n",
    "  valid_dataset, valid_labels = make_arrays(valid_size, image_size)\n",
    "  train_dataset, train_labels = make_arrays(train_size, image_size)\n",
    "  vsize_per_class = valid_size // num_classes\n",
    "  tsize_per_class = train_size // num_classes\n",
    "    \n",
    "  start_v, start_t = 0, 0\n",
    "  end_v, end_t = vsize_per_class, tsize_per_class\n",
    "  end_l = vsize_per_class+tsize_per_class\n",
    "  for label, pickle_file in enumerate(pickle_files):       \n",
    "    try:\n",
    "      with open(pickle_file, 'rb') as f:\n",
    "        letter_set = pickle.load(f)\n",
    "        # let's shuffle the letters to have random validation and training set\n",
    "        np.random.shuffle(letter_set)\n",
    "        if valid_dataset is not None:\n",
    "          valid_letter = letter_set[:vsize_per_class, :, :]\n",
    "          valid_dataset[start_v:end_v, :, :] = valid_letter\n",
    "          valid_labels[start_v:end_v] = label\n",
    "          start_v += vsize_per_class\n",
    "          end_v += vsize_per_class\n",
    "                    \n",
    "        train_letter = letter_set[vsize_per_class:end_l, :, :]\n",
    "        train_dataset[start_t:end_t, :, :] = train_letter\n",
    "        train_labels[start_t:end_t] = label\n",
    "        start_t += tsize_per_class\n",
    "        end_t += tsize_per_class\n",
    "    except Exception as e:\n",
    "      print('Unable to process data from', pickle_file, ':', e)\n",
    "      raise\n",
    "    \n",
    "  return valid_dataset, valid_labels, train_dataset, train_labels\n",
    "\n",
    "\n",
    "train_size = 200000\n",
    "valid_size = 10000\n",
    "test_size = 10000\n",
    "\n",
    "valid_dataset, valid_labels, train_dataset, train_labels = merge_datasets(\n",
    "  train_datasets, train_size, valid_size)\n",
    "_, _, test_dataset, test_labels = merge_datasets(test_datasets, test_size)\n",
    "\n",
    "print('Training:', train_dataset.shape, train_labels.shape)\n",
    "print('Validation:', valid_dataset.shape, valid_labels.shape)\n",
    "print('Testing:', test_dataset.shape, test_labels.shape)"
   ]
  },
  {
   "cell_type": "markdown",
   "metadata": {
    "colab_type": "text",
    "id": "GPTCnjIcyuKN"
   },
   "source": [
    "Next, we'll randomize the data. It's important to have the labels well shuffled for the training and test distributions to match."
   ]
  },
  {
   "cell_type": "code",
   "execution_count": 14,
   "metadata": {
    "cellView": "both",
    "colab": {
     "autoexec": {
      "startup": false,
      "wait_interval": 0
     }
    },
    "colab_type": "code",
    "collapsed": true,
    "id": "6WZ2l2tN2zOL"
   },
   "outputs": [],
   "source": [
    "def randomize(dataset, labels):\n",
    "  permutation = np.random.permutation(labels.shape[0])\n",
    "  shuffled_dataset = dataset[permutation,:,:]\n",
    "  shuffled_labels = labels[permutation]\n",
    "  return shuffled_dataset, shuffled_labels\n",
    "train_dataset, train_labels = randomize(train_dataset, train_labels)\n",
    "test_dataset, test_labels = randomize(test_dataset, test_labels)\n",
    "valid_dataset, valid_labels = randomize(valid_dataset, valid_labels)"
   ]
  },
  {
   "cell_type": "markdown",
   "metadata": {
    "colab_type": "text",
    "id": "puDUTe6t6USl"
   },
   "source": [
    "---\n",
    "Problem 4\n",
    "---------\n",
    "Convince yourself that the data is still good after shuffling!\n",
    "\n",
    "---"
   ]
  },
  {
   "cell_type": "code",
   "execution_count": 15,
   "metadata": {
    "collapsed": false
   },
   "outputs": [
    {
     "name": "stdout",
     "output_type": "stream",
     "text": [
      "train_dataset: mean = -0.0813681 std dev = 0.454308\n",
      "test_dataset: mean = -0.0740373 std dev = 0.458822\n",
      "valid_dataset: mean = -0.0795578 std dev = 0.454631\n",
      "\n",
      " 65 66 67 68 69 70 71 72 73 74 \n",
      "\n"
     ]
    },
    {
     "data": {
      "image/png": "[encoded data removed]",
      "text/plain": [
       "<matplotlib.figure.Figure at 0x103d89b50>"
      ]
     },
     "metadata": {},
     "output_type": "display_data"
    }
   ],
   "source": [
    "print (\"train_dataset: mean =\", np.mean(train_dataset), \"std dev =\", np.std(train_dataset))\n",
    "print (\"test_dataset: mean =\", np.mean(test_dataset), \"std dev =\", np.std(test_dataset))\n",
    "print (\"valid_dataset: mean =\", np.mean(valid_dataset), \"std dev =\", np.std(valid_dataset))\n",
    "\n",
    "train_sample_indices = np.random.choice(200000, 10)\n",
    "test_sample_indices = np.random.choice(10000, 10)\n",
    "\n",
    "print('\\n',ord('A'),ord('B'),ord('C'),ord('D'),ord('E'),ord('F'),ord('G'),ord('H'),ord('I'),ord('J'),'\\n')\n",
    "\n",
    "fig = plt.figure(figsize=(10,4))\n",
    "for i in range(10):\n",
    "    ax = fig.add_subplot(2,5,i+1)\n",
    "    plt.imshow(train_dataset[train_sample_indices[i]])\n",
    "    ax.set_title(str(unichr(train_labels[train_sample_indices[i]]+65)))\n",
    "plt.tight_layout()\n",
    "fig = plt.gcf()"
   ]
  },
  {
   "cell_type": "code",
   "execution_count": 16,
   "metadata": {
    "collapsed": false
   },
   "outputs": [
    {
     "data": {
      "image/png": "[encoded data removed]",
      "text/plain": [
       "<matplotlib.figure.Figure at 0x119f51410>"
      ]
     },
     "metadata": {},
     "output_type": "display_data"
    }
   ],
   "source": [
    "fig = plt.figure(figsize=(10,4))\n",
    "for i in range(10):\n",
    "    ax = fig.add_subplot(2,5,i+1)\n",
    "    plt.imshow(test_dataset[test_sample_indices[i]])\n",
    "    ax.set_title(str(unichr(test_labels[test_sample_indices[i]]+65)))\n",
    "plt.tight_layout()\n",
    "fig = plt.gcf()"
   ]
  },
  {
   "cell_type": "markdown",
   "metadata": {
    "colab_type": "text",
    "id": "tIQJaJuwg5Hw"
   },
   "source": [
    "Finally, let's save the data for later reuse:"
   ]
  },
  {
   "cell_type": "code",
   "execution_count": 17,
   "metadata": {
    "cellView": "both",
    "colab": {
     "autoexec": {
      "startup": false,
      "wait_interval": 0
     }
    },
    "colab_type": "code",
    "collapsed": true,
    "id": "QiR_rETzem6C"
   },
   "outputs": [],
   "source": [
    "pickle_file = 'notMNIST.pickle'\n",
    "\n",
    "try:\n",
    "  f = open(pickle_file, 'wb')\n",
    "  save = {\n",
    "    'train_dataset': train_dataset,\n",
    "    'train_labels': train_labels,\n",
    "    'valid_dataset': valid_dataset,\n",
    "    'valid_labels': valid_labels,\n",
    "    'test_dataset': test_dataset,\n",
    "    'test_labels': test_labels,\n",
    "    }\n",
    "  pickle.dump(save, f, pickle.HIGHEST_PROTOCOL)\n",
    "  f.close()\n",
    "except Exception as e:\n",
    "  print('Unable to save data to', pickle_file, ':', e)\n",
    "  raise"
   ]
  },
  {
   "cell_type": "code",
   "execution_count": 18,
   "metadata": {
    "cellView": "both",
    "colab": {
     "autoexec": {
      "startup": false,
      "wait_interval": 0
     },
     "output_extras": [
      {
       "item_id": 1
      }
     ]
    },
    "colab_type": "code",
    "collapsed": false,
    "executionInfo": {
     "elapsed": 413065,
     "status": "ok",
     "timestamp": 1444485899688,
     "user": {
      "color": "#1FA15D",
      "displayName": "Vincent Vanhoucke",
      "isAnonymous": false,
      "isMe": true,
      "permissionId": "05076109866853157986",
      "photoUrl": "//lh6.googleusercontent.com/-cCJa7dTDcgQ/AAAAAAAAAAI/AAAAAAAACgw/r2EZ_8oYer4/s50-c-k-no/photo.jpg",
      "sessionId": "2a0a5e044bb03b66",
      "userId": "102167687554210253930"
     },
     "user_tz": 420
    },
    "id": "hQbLjrW_iT39",
    "outputId": "b440efc6-5ee1-4cbc-d02d-93db44ebd956"
   },
   "outputs": [
    {
     "name": "stdout",
     "output_type": "stream",
     "text": [
      "Compressed pickle size: 690800441\n"
     ]
    }
   ],
   "source": [
    "statinfo = os.stat(pickle_file)\n",
    "print('Compressed pickle size:', statinfo.st_size)"
   ]
  },
  {
   "cell_type": "markdown",
   "metadata": {
    "colab_type": "text",
    "id": "gE_cRAQB33lk"
   },
   "source": [
    "---\n",
    "Problem 5\n",
    "---------\n",
    "\n",
    "By construction, this dataset might contain a lot of overlapping samples, including training data that's also contained in the validation and test set! Overlap between training and test can skew the results if you expect to use your model in an environment where there is never an overlap, but are actually ok if you expect to see training samples recur when you use it.\n",
    "Measure how much overlap there is between training, validation and test samples.\n",
    "\n",
    "Optional questions:\n",
    "- What about near duplicates between datasets? (images that are almost identical)\n",
    "- Create a sanitized validation and test set, and compare your accuracy on those in subsequent assignments.\n",
    "---"
   ]
  },
  {
   "cell_type": "code",
   "execution_count": 36,
   "metadata": {
    "collapsed": false
   },
   "outputs": [
    {
     "name": "stdout",
     "output_type": "stream",
     "text": [
      "train -> total train samples: 200000\n",
      "valid -> total valid samples: 10000\n",
      "test  -> total test samples:  10000\n"
     ]
    }
   ],
   "source": [
    "# dataset sizes to start\n",
    "print(\"train -> total train samples:\", len(train_labels))\n",
    "print(\"valid -> total valid samples:\", len(valid_labels))\n",
    "print(\"test  -> total test samples: \",  len(test_labels))"
   ]
  },
  {
   "cell_type": "code",
   "execution_count": 19,
   "metadata": {
    "collapsed": false
   },
   "outputs": [
    {
     "data": {
      "text/plain": [
       "1946.3332209587097"
      ]
     },
     "metadata": {},
     "output_type": "display_data"
    },
    {
     "data": {
      "text/plain": [
       "143"
      ]
     },
     "metadata": {},
     "output_type": "display_data"
    }
   ],
   "source": [
    "import time\n",
    "\n",
    "def find_duplicates(dataset):\n",
    "    duplicate_indices = []\n",
    "    dataset_size = len(dataset)\n",
    "    for i in xrange(dataset_size):\n",
    "        if i not in duplicate_indices:\n",
    "            for j in xrange(i+1,dataset_size):\n",
    "                if j not in duplicate_indices:\n",
    "                    if np.array_equal(dataset[i], dataset[j]):\n",
    "                        duplicate_indices.append(j)\n",
    "    return duplicate_indices\n",
    "\n",
    "t1 = time.time()\n",
    "valid_duplicates = find_duplicates(valid_dataset)\n",
    "t2 = time.time()\n",
    "print(\"number duplicates in valid =\", len(valid_duplicates))\n",
    "print(\"time taken =\", t2-t1, \"seconds\")"
   ]
  },
  {
   "cell_type": "markdown",
   "metadata": {},
   "source": [
    "This is very slow. Let's compare hashes instead to start and find how many duplicates there are."
   ]
  },
  {
   "cell_type": "code",
   "execution_count": 20,
   "metadata": {
    "collapsed": false
   },
   "outputs": [
    {
     "name": "stdout",
     "output_type": "stream",
     "text": [
      "number train_duplicates =  12602\n",
      "number test_duplicates =  209\n",
      "number valid_duplicates =  143\n",
      "time taken = 10.6793589592 seconds\n"
     ]
    }
   ],
   "source": [
    "import hashlib\n",
    "\n",
    "t1 = time.time()\n",
    "\n",
    "# set of string\n",
    "train_hashes = set([hashlib.sha1(x).digest() for x in train_dataset])\n",
    "valid_hashes = set([hashlib.sha1(x).digest() for x in valid_dataset])\n",
    "test_hashes  = set([hashlib.sha1(x).digest() for x in test_dataset])\n",
    "\n",
    "# how many duplicates in each dataset are there?\n",
    "print(\"number train_duplicates = \", len(train_dataset) - len(train_hashes))\n",
    "print(\"number test_duplicates = \", len(test_dataset) - len(test_hashes))\n",
    "print(\"number valid_duplicates = \", len(valid_dataset) - len(valid_hashes))\n",
    "\n",
    "t2 = time.time()\n",
    "\n",
    "print(\"\")\n",
    "print(\"time taken =\", t2-t1, \"seconds\")"
   ]
  },
  {
   "cell_type": "code",
   "execution_count": 37,
   "metadata": {
    "collapsed": false
   },
   "outputs": [
    {
     "name": "stdout",
     "output_type": "stream",
     "text": [
      "valid -> train overlap: 1049 samples\n",
      "test  -> train overlap: 1285 samples\n",
      "test  -> valid overlap: 205 samples\n",
      "\n",
      "Time to find overlap: 8.14s\n"
     ]
    }
   ],
   "source": [
    "t1 = time.time()\n",
    "\n",
    "# list of string\n",
    "train_hashes = [hashlib.sha1(x).digest() for x in train_dataset]\n",
    "valid_hashes = [hashlib.sha1(x).digest() for x in valid_dataset]\n",
    "test_hashes  = [hashlib.sha1(x).digest() for x in test_dataset]\n",
    "\n",
    "# boolean arrays showing the train datapoint hashes which are also in the valid and test hashes\n",
    "valid_in_train = np.in1d(valid_hashes, train_hashes)\n",
    "test_in_train  = np.in1d(test_hashes,  train_hashes)\n",
    "test_in_valid  = np.in1d(test_hashes,  valid_hashes)\n",
    "\n",
    "print(\"valid -> train overlap: %d samples\" % valid_in_train.sum())\n",
    "print(\"test  -> train overlap: %d samples\" % test_in_train.sum())\n",
    "print(\"test  -> valid overlap: %d samples\" % test_in_valid.sum())\n",
    "print(\"\")\n",
    "\n",
    "# the complementary arrays\n",
    "valid_keep = ~valid_in_train\n",
    "test_keep  = ~(test_in_train | test_in_valid)\n",
    "\n",
    "valid_overlap = valid_in_train.sum()\n",
    "test_overlap = (test_in_train | test_in_valid).sum()\n",
    "\n",
    "t2 = time.time()\n",
    "print(\"Time to find overlap: %0.2fs\" % (t2 - t1))"
   ]
  },
  {
   "cell_type": "code",
   "execution_count": 38,
   "metadata": {
    "collapsed": false
   },
   "outputs": [
    {
     "name": "stdout",
     "output_type": "stream",
     "text": [
      "valid -> total images removed: 1049\n",
      "test  -> total images removed: 1328\n",
      "\n",
      "valid -> remaining valid samples: 8951\n",
      "test  -> remaining test samples:  8672\n",
      "\n",
      "Time to clean valid and test datasets: 0.08s\n"
     ]
    }
   ],
   "source": [
    "t1 = time.time()\n",
    "\n",
    "# Make clean datasets\n",
    "valid_dataset_clean = valid_dataset[valid_keep]\n",
    "valid_labels_clean  = valid_labels [valid_keep]\n",
    "test_dataset_clean = test_dataset[test_keep]\n",
    "test_labels_clean  = test_labels [test_keep]\n",
    "\n",
    "print(\"valid -> total images removed:\", len(valid_hashes)-len(valid_labels_clean))\n",
    "print(\"test  -> total images removed:\",  len(test_hashes)-len(test_labels_clean))\n",
    "print(\"\")\n",
    "print(\"valid -> remaining valid samples:\", len(valid_labels_clean))\n",
    "print(\"test  -> remaining test samples: \",  len(test_labels_clean))\n",
    "print(\"\")\n",
    "\n",
    "t2 = time.time()\n",
    "print(\"Time to clean valid and test datasets: %0.2fs\" % (t2 - t1))"
   ]
  },
  {
   "cell_type": "code",
   "execution_count": 22,
   "metadata": {
    "collapsed": false
   },
   "outputs": [],
   "source": [
    "# remove duplicates also\n",
    "def remove_duplicate_hashes(list_hashes, list_bool_keep):\n",
    "    if len(list_hashes) != len(list_bool_keep):\n",
    "        print(\"remove_duplicate_hashes: lists should the same length\")\n",
    "    for index in xrange(len(list_hashes)):\n",
    "        if list_hashes[index] in list_hashes[:index]:\n",
    "            list_bool_keep[index] = False"
   ]
  },
  {
   "cell_type": "code",
   "execution_count": 29,
   "metadata": {
    "collapsed": false
   },
   "outputs": [
    {
     "data": {
      "text/plain": [
       "array([0, 1, 2, 1, 4, 1, 6, 1, 2, 1])"
      ]
     },
     "metadata": {},
     "output_type": "display_data"
    },
    {
     "data": {
      "text/plain": [
       "array([ True,  True,  True, False,  True, False,  True, False, False, False], dtype=bool)"
      ]
     },
     "metadata": {},
     "output_type": "display_data"
    }
   ],
   "source": [
    "# test function remove_duplicate_hashes(list_hashes, list_bool_keep)\n",
    "x = np.array([0, 1, 2, 1, 4, 1, 6, 1, 2, 1])\n",
    "y = np.ones((len(x),), dtype=np.bool)\n",
    "remove_duplicate_hashes(x,y)\n",
    "display(x)\n",
    "display(y)"
   ]
  },
  {
   "cell_type": "code",
   "execution_count": 42,
   "metadata": {
    "collapsed": false
   },
   "outputs": [
    {
     "name": "stdout",
     "output_type": "stream",
     "text": [
      "Time to find duplicates: 1074.17s\n"
     ]
    }
   ],
   "source": [
    "train_keep = np.ones((len(train_hashes),), dtype=np.bool)\n",
    "\n",
    "t1 = time.time()\n",
    "\n",
    "remove_duplicate_hashes(train_hashes, train_keep)\n",
    "remove_duplicate_hashes(valid_hashes, valid_keep)\n",
    "remove_duplicate_hashes(test_hashes, test_keep)\n",
    "\n",
    "t2 = time.time()\n",
    "print(\"Time to find duplicates: %0.2fs\" % (t2 - t1))"
   ]
  },
  {
   "cell_type": "code",
   "execution_count": 43,
   "metadata": {
    "collapsed": false
   },
   "outputs": [
    {
     "name": "stdout",
     "output_type": "stream",
     "text": [
      "train -> total duplicates removed: 12602\n",
      "valid -> total duplicates removed: 24\n",
      "test  -> total duplicates removed: 49\n",
      "\n",
      "train -> remaining train samples: 187398\n",
      "valid -> remaining valid samples: 8927\n",
      "test  -> remaining test samples:  8623\n",
      "\n",
      "Time to make clean datasets: 3.25s\n"
     ]
    }
   ],
   "source": [
    "t1 = time.time()\n",
    "\n",
    "# Make clean datasets\n",
    "train_dataset_clean = train_dataset[train_keep]\n",
    "train_labels_clean  = train_labels [train_keep]\n",
    "valid_dataset_clean = valid_dataset[valid_keep]\n",
    "valid_labels_clean  = valid_labels [valid_keep]\n",
    "test_dataset_clean = test_dataset[test_keep]\n",
    "test_labels_clean  = test_labels [test_keep]\n",
    "\n",
    "print(\"train -> total duplicates removed:\", len(train_hashes)-len(train_labels_clean))\n",
    "print(\"valid -> total duplicates removed:\", len(valid_hashes)-len(valid_labels_clean)-valid_overlap)\n",
    "print(\"test  -> total duplicates removed:\",  len(test_hashes)-len(test_labels_clean)-test_overlap)\n",
    "print(\"\")\n",
    "\n",
    "print(\"train -> remaining train samples:\", len(train_labels_clean))\n",
    "print(\"valid -> remaining valid samples:\", len(valid_labels_clean))\n",
    "print(\"test  -> remaining test samples: \",  len(test_labels_clean))\n",
    "print(\"\")\n",
    "\n",
    "t2 = time.time()\n",
    "print(\"Time to make clean datasets: %0.2fs\" % (t2 - t1))"
   ]
  },
  {
   "cell_type": "markdown",
   "metadata": {
    "colab_type": "text",
    "id": "L8oww1s4JMQx"
   },
   "source": [
    "---\n",
    "Problem 6\n",
    "---------\n",
    "\n",
    "Let's get an idea of what an off-the-shelf classifier can give you on this data. It's always good to check that there is something to learn, and that it's a problem that is not so trivial that a canned solution solves it.\n",
    "\n",
    "Train a simple model on this data using 50, 100, 1000 and 5000 training samples. Hint: you can use the LogisticRegression model from sklearn.linear_model.\n",
    "\n",
    "Optional question: train an off-the-shelf model on all the data!\n",
    "\n",
    "---"
   ]
  },
  {
   "cell_type": "code",
   "execution_count": 39,
   "metadata": {
    "collapsed": false
   },
   "outputs": [],
   "source": [
    "# Reshape our data so we can use SKLearn\n",
    "\n",
    "n_samples = [50, 100, 1000, 2500, 5000, 10000]\n",
    "n_samples_max = n_samples[-1]\n",
    "n_features = train_dataset.shape[1] * train_dataset.shape[2]\n",
    "\n",
    "X_train_clean = np.reshape(train_dataset_clean[:n_samples_max], (n_samples_max,            n_features) )\n",
    "X_valid       = np.reshape(valid_dataset                      , (len(valid_dataset),       n_features) )\n",
    "X_valid_clean = np.reshape(valid_dataset_clean                , (len(valid_dataset_clean), n_features) )\n",
    "X_test        = np.reshape( test_dataset                      , (len(test_dataset),        n_features) )\n",
    "X_test_clean  = np.reshape( test_dataset_clean                , (len(test_dataset_clean),  n_features) )"
   ]
  },
  {
   "cell_type": "code",
   "execution_count": 40,
   "metadata": {
    "collapsed": false
   },
   "outputs": [],
   "source": [
    "from sklearn import linear_model\n",
    "from sklearn.metrics import accuracy_score\n",
    "\n",
    "logistic_classifier = linear_model.LogisticRegression()\n",
    "\n",
    "acc_train = []\n",
    "acc_valid = []\n",
    "acc_valid_clean = []\n",
    "acc_test = []\n",
    "acc_test_clean = []\n",
    "\n",
    "for n in n_samples:\n",
    "    \n",
    "    logistic_classifier.fit(X_train_clean[:n], train_labels_clean[:n])\n",
    "    \n",
    "    y_pred = logistic_classifier.predict(X_train_clean[:n])\n",
    "    acc_train.append(accuracy_score(y_pred, train_labels_clean[:n]))\n",
    "\n",
    "    y_pred = logistic_classifier.predict(X_valid)\n",
    "    acc_valid.append(accuracy_score(y_pred, valid_labels))\n",
    "\n",
    "    y_pred = logistic_classifier.predict(X_valid_clean)\n",
    "    acc_valid_clean.append(accuracy_score(y_pred, valid_labels_clean))\n",
    "\n",
    "    y_pred  = logistic_classifier.predict(X_test)\n",
    "    acc_test.append(accuracy_score(y_pred, test_labels))\n",
    "\n",
    "    y_pred  = logistic_classifier.predict(X_test_clean)\n",
    "    acc_test_clean.append(accuracy_score(y_pred, test_labels_clean))"
   ]
  },
  {
   "cell_type": "code",
   "execution_count": 46,
   "metadata": {
    "collapsed": false
   },
   "outputs": [
    {
     "data": {
      "image/png": "[encoded data removed]",
      "text/plain": [
       "<matplotlib.figure.Figure at 0x119a7e510>"
      ]
     },
     "metadata": {},
     "output_type": "display_data"
    }
   ],
   "source": [
    "import pylab\n",
    "\n",
    "pylab.plot(n_samples, acc_train,       'b', label='train')\n",
    "pylab.plot(n_samples, acc_valid,       'g', label='valid')\n",
    "pylab.plot(n_samples, acc_valid_clean, 'r', label='valid clean')\n",
    "pylab.plot(n_samples, acc_test,        'c', label='test')\n",
    "pylab.plot(n_samples, acc_test_clean,  'm', label='test clean')\n",
    "pylab.xlabel('Number of training samples')\n",
    "pylab.ylabel('Prediction accuracy')\n",
    "pylab.legend(loc='lower right')\n",
    "pylab.show()"
   ]
  },
  {
   "cell_type": "code",
   "execution_count": null,
   "metadata": {
    "collapsed": true
   },
   "outputs": [],
   "source": []
  }
 ],
 "metadata": {
  "colab": {
   "default_view": {},
   "name": "1_notmnist.ipynb",
   "provenance": [],
   "version": "0.3.2",
   "views": {}
  },
  "kernelspec": {
   "display_name": "Python 2",
   "language": "python",
   "name": "python2"
  },
  "language_info": {
   "codemirror_mode": {
    "name": "ipython",
    "version": 2
   },
   "file_extension": ".py",
   "mimetype": "text/x-python",
   "name": "python",
   "nbconvert_exporter": "python",
   "pygments_lexer": "ipython2",
   "version": "2.7.12"
  }
 },
 "nbformat": 4,
 "nbformat_minor": 0
}
